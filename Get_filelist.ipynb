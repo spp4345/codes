{
 "cells": [
  {
   "cell_type": "code",
   "execution_count": 11,
   "metadata": {},
   "outputs": [
    {
     "name": "stdout",
     "output_type": "stream",
     "text": [
      "讀取資料夾內檔案並擷取pdf檔工程名稱:\n",
      "['B1.pdf', 'd:/zzz', '宁波PABS厂成品硬性围篱改善-00']\n",
      "['N1.pdf', 'd:/zzz', 'PVC廠屋面彩鋼更換及漏水修繕工程-00']\n",
      "['N2.pdf', 'd:/zzz', '昆山CCL三廠配料室T-316至含浸配管-00']\n",
      "走遍路徑內資料及其檔案及並擷取其pdf檔工程名稱:\n",
      "[]\n"
     ]
    }
   ],
   "source": [
    "import import_ipynb\n",
    "import os\n",
    "import pdfplumber\n",
    "from Read_pdf import get_text\n",
    "from pathlib import Path\n",
    "\n",
    "def getFileList(dir ,**kwargs):\n",
    "    kwargs.setdefault('filetype', '.pdf')\n",
    "    files = os.listdir(dir)\n",
    "    path_list=[]\n",
    "    \n",
    "    for file in files:\n",
    "        full_path = os.path.join(dir, file)\n",
    "        if os.path.isfile(full_path) and os.path.splitext(file)[-1] == kwargs['filetype']:\n",
    "            li=[]\n",
    "            li.append(os.path.basename(full_path))\n",
    "            li.append(os.path.dirname(full_path))\n",
    "            path_list.append(li)\n",
    "\n",
    "    return path_list\n",
    "\n",
    "def walkpath(**kwargs):\n",
    "    kwargs.setdefault('filetype', '.pdf')\n",
    "    kwargs.setdefault('path', str(Path.home()) + r'\\AppData\\Local\\Microsoft\\Windows\\INetCache\\IE\\\\')\n",
    "    path_list=[]\n",
    "    \n",
    "    for root, dirs, files in os.walk(kwargs['path']):\n",
    "        for file in files:\n",
    "            full_path = os.path.join(root, file)\n",
    "            if os.path.splitext(full_path)[-1] == kwargs['filetype']:\n",
    "                li=[]\n",
    "                li.append(os.path.basename(full_path))\n",
    "                li.append(os.path.dirname(full_path))\n",
    "                path_list.append(li)\n",
    "    return path_list\n",
    "\n",
    "def getCasename(path, pos):\n",
    "    pdf_1 = pdfplumber.open(path)\n",
    "    p0 = pdf_1.pages[0]\n",
    "    text = get_text(p0,pos)\n",
    "    del pdf_1\n",
    "    del p0\n",
    "    return text\n",
    "\n",
    "def append_pdftext(li, **kwargs):\n",
    "    kwargs.setdefault('pos_name', {'x0':29.280, 'top':135.104, 'x1':393.600, 'bottom':152.960})#預設工程名稱的位置\n",
    "    kwargs.setdefault('pos_sn',  {'x0':81.320, 'top':91.744, 'x1':93.320, 'bottom':109.600})#預設次別的位置\n",
    "    \n",
    "    i = 0\n",
    "    for item in li:\n",
    "        filepath = os.path.join(li[i][1], li[i][0])\n",
    "        casename = getCasename(filepath, kwargs['pos_name'])\n",
    "        if casename != None:\n",
    "            li[i].append(casename + '-' + getCasename(filepath, kwargs['pos_sn']))\n",
    "        else:\n",
    "            del li[i]\n",
    "        i+=1\n",
    "    \n",
    "    return li\n",
    "\n",
    "if __name__=='__main__':\n",
    "    r =getFileList('d:/zzz', filetype = '.pdf')\n",
    "    r = append_pdftext(r)\n",
    "    print('讀取資料夾內檔案並擷取pdf檔工程名稱:')\n",
    "    for item in r:\n",
    "        print(item)\n",
    "    \n",
    "#     tempdir = str(Path.home()) + r'\\AppData\\Local\\Microsoft\\Windows\\INetCache\\\\'\n",
    "    r = walkpath()\n",
    "    x = append_pdftext(r)\n",
    "    print('走遍路徑內資料及其檔案及並擷取其pdf檔工程名稱:')\n",
    "    print(x)"
   ]
  }
 ],
 "metadata": {
  "kernelspec": {
   "display_name": "Python 3",
   "language": "python",
   "name": "python3"
  },
  "language_info": {
   "codemirror_mode": {
    "name": "ipython",
    "version": 3
   },
   "file_extension": ".py",
   "mimetype": "text/x-python",
   "name": "python",
   "nbconvert_exporter": "python",
   "pygments_lexer": "ipython3",
   "version": "3.7.1"
  }
 },
 "nbformat": 4,
 "nbformat_minor": 4
}
