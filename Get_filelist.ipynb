{
 "cells": [
  {
   "cell_type": "code",
   "execution_count": 1,
   "metadata": {},
   "outputs": [
    {
     "name": "stdout",
     "output_type": "stream",
     "text": [
      "importing Jupyter notebook from Read_pdf.ipynb\n",
      "讀取資料夾內檔案並擷取pdf檔工程名稱:\n",
      "[['906003D5-4PA-01-w.pdf', 'd:/', '厂区篮球场及倒班楼楼梯墙裙修复'], ['906003D5-4PA-01.pdf', 'd:/', '厂区篮球场及倒班楼楼梯墙裙修复'], ['T1-w.pdf', 'd:/', '一二廠衛生間改善'], ['T1.pdf', 'd:/', '一二廠衛生間改善'], ['T2.pdf', 'd:/', '寧波工事處辦公樓外墻面改善工程'], ['T3.pdf', 'd:/', '寧波PTA廠氫氣回收改善保溫工程']]\n",
      "走遍路徑內資料及其檔案及並擷取其pdf檔工程名稱:\n",
      "[['T5.pdf', 'C:\\\\Users\\\\spp43\\\\AppData\\\\Local\\\\Microsoft\\\\Windows\\\\INetCache', '厂区篮球场及倒班楼楼梯墙裙修复']]\n"
     ]
    }
   ],
   "source": [
    "import import_ipynb\n",
    "import os\n",
    "import pdfplumber\n",
    "from Read_pdf import get_text\n",
    "from pathlib import Path\n",
    "\n",
    "def getFileList(dir ,**kwargs):\n",
    "    kwargs.setdefault('filetype', '.pdf')\n",
    "    files = os.listdir(dir)\n",
    "    path_list=[]\n",
    "    \n",
    "    for file in files:\n",
    "        full_path = os.path.join(dir, file)\n",
    "        if os.path.isfile(full_path) and os.path.splitext(file)[-1] == kwargs['filetype']:\n",
    "            li=[]\n",
    "            li.append(os.path.basename(full_path))\n",
    "            li.append(os.path.dirname(full_path))\n",
    "            path_list.append(li)\n",
    "\n",
    "    return path_list\n",
    "\n",
    "def walkpath(**kwargs):\n",
    "    kwargs.setdefault('filetype', '.pdf')\n",
    "    kwargs.setdefault('path', str(Path.home()) + r'\\AppData\\Local\\Microsoft\\Windows\\INetCache\\\\')\n",
    "    path_list=[]\n",
    "    \n",
    "    for root, dirs, files in os.walk(kwargs['path']):\n",
    "        for file in files:\n",
    "            full_path = os.path.join(root, file)\n",
    "            if os.path.splitext(full_path)[-1] == kwargs['filetype']:\n",
    "                li=[]\n",
    "                li.append(os.path.basename(full_path))\n",
    "                li.append(os.path.dirname(full_path))\n",
    "                path_list.append(li)\n",
    "    return path_list\n",
    "\n",
    "def getCasename(path, pos):\n",
    "    pdf_1 = pdfplumber.open(path)\n",
    "    p0 = pdf_1.pages[0]\n",
    "    text = get_text(p0,pos)\n",
    "    del pdf_1\n",
    "    del p0\n",
    "    return text\n",
    "\n",
    "def append_pdftext(li, **kwargs):\n",
    "    kwargs.setdefault('pos', {'x0':29.280, 'top':135.104, 'x1':393.600, 'bottom':152.960})#預設工程名稱的位置\n",
    "    \n",
    "    i = 0\n",
    "    for item in li:\n",
    "        filepath = os.path.join(li[i][1], li[i][0])\n",
    "        casename = getCasename(filepath, kwargs['pos'])\n",
    "#         print(i,a[i][0], casename)\n",
    "        li[i].append(casename)\n",
    "        i+=1\n",
    "    \n",
    "    return li\n",
    "\n",
    "if __name__=='__main__':\n",
    "    r =getFileList('d:/', filetype = '.pdf')\n",
    "    x = append_pdftext(r)\n",
    "    print('讀取資料夾內檔案並擷取pdf檔工程名稱:')\n",
    "    print(x)\n",
    "    \n",
    "#     tempdir = str(Path.home()) + r'\\AppData\\Local\\Microsoft\\Windows\\INetCache\\\\'\n",
    "    r = walkpath()\n",
    "    x = append_pdftext(r)\n",
    "    print('走遍路徑內資料及其檔案及並擷取其pdf檔工程名稱:')\n",
    "    print(x)"
   ]
  }
 ],
 "metadata": {
  "kernelspec": {
   "display_name": "Python 3",
   "language": "python",
   "name": "python3"
  },
  "language_info": {
   "codemirror_mode": {
    "name": "ipython",
    "version": 3
   },
   "file_extension": ".py",
   "mimetype": "text/x-python",
   "name": "python",
   "nbconvert_exporter": "python",
   "pygments_lexer": "ipython3",
   "version": "3.7.1"
  }
 },
 "nbformat": 4,
 "nbformat_minor": 4
}
